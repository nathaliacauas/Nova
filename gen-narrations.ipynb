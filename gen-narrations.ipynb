{
  "cells": [
    {
      "cell_type": "code",
      "execution_count": null,
      "metadata": {
        "colab": {
          "base_uri": "https://localhost:8080/"
        },
        "id": "WeYL5P8HExCG",
        "outputId": "9a6b1eb5-f17b-4dc2-fea5-dcbd8d886572"
      },
      "outputs": [
        {
          "output_type": "stream",
          "name": "stdout",
          "text": [
            "Collecting openai\n",
            "  Downloading openai-1.47.1-py3-none-any.whl.metadata (24 kB)\n",
            "Requirement already satisfied: anyio<5,>=3.5.0 in /usr/local/lib/python3.10/dist-packages (from openai) (3.7.1)\n",
            "Requirement already satisfied: distro<2,>=1.7.0 in /usr/lib/python3/dist-packages (from openai) (1.7.0)\n",
            "Collecting httpx<1,>=0.23.0 (from openai)\n",
            "  Downloading httpx-0.27.2-py3-none-any.whl.metadata (7.1 kB)\n",
            "Collecting jiter<1,>=0.4.0 (from openai)\n",
            "  Downloading jiter-0.5.0-cp310-cp310-manylinux_2_17_x86_64.manylinux2014_x86_64.whl.metadata (3.6 kB)\n",
            "Requirement already satisfied: pydantic<3,>=1.9.0 in /usr/local/lib/python3.10/dist-packages (from openai) (2.9.2)\n",
            "Requirement already satisfied: sniffio in /usr/local/lib/python3.10/dist-packages (from openai) (1.3.1)\n",
            "Requirement already satisfied: tqdm>4 in /usr/local/lib/python3.10/dist-packages (from openai) (4.66.5)\n",
            "Requirement already satisfied: typing-extensions<5,>=4.11 in /usr/local/lib/python3.10/dist-packages (from openai) (4.12.2)\n",
            "Requirement already satisfied: idna>=2.8 in /usr/local/lib/python3.10/dist-packages (from anyio<5,>=3.5.0->openai) (3.10)\n",
            "Requirement already satisfied: exceptiongroup in /usr/local/lib/python3.10/dist-packages (from anyio<5,>=3.5.0->openai) (1.2.2)\n",
            "Requirement already satisfied: certifi in /usr/local/lib/python3.10/dist-packages (from httpx<1,>=0.23.0->openai) (2024.8.30)\n",
            "Collecting httpcore==1.* (from httpx<1,>=0.23.0->openai)\n",
            "  Downloading httpcore-1.0.5-py3-none-any.whl.metadata (20 kB)\n",
            "Collecting h11<0.15,>=0.13 (from httpcore==1.*->httpx<1,>=0.23.0->openai)\n",
            "  Downloading h11-0.14.0-py3-none-any.whl.metadata (8.2 kB)\n",
            "Requirement already satisfied: annotated-types>=0.6.0 in /usr/local/lib/python3.10/dist-packages (from pydantic<3,>=1.9.0->openai) (0.7.0)\n",
            "Requirement already satisfied: pydantic-core==2.23.4 in /usr/local/lib/python3.10/dist-packages (from pydantic<3,>=1.9.0->openai) (2.23.4)\n",
            "Downloading openai-1.47.1-py3-none-any.whl (375 kB)\n",
            "\u001b[2K   \u001b[90m━━━━━━━━━━━━━━━━━━━━━━━━━━━━━━━━━━━━━━━━\u001b[0m \u001b[32m375.6/375.6 kB\u001b[0m \u001b[31m9.1 MB/s\u001b[0m eta \u001b[36m0:00:00\u001b[0m\n",
            "\u001b[?25hDownloading httpx-0.27.2-py3-none-any.whl (76 kB)\n",
            "\u001b[2K   \u001b[90m━━━━━━━━━━━━━━━━━━━━━━━━━━━━━━━━━━━━━━━━\u001b[0m \u001b[32m76.4/76.4 kB\u001b[0m \u001b[31m4.3 MB/s\u001b[0m eta \u001b[36m0:00:00\u001b[0m\n",
            "\u001b[?25hDownloading httpcore-1.0.5-py3-none-any.whl (77 kB)\n",
            "\u001b[2K   \u001b[90m━━━━━━━━━━━━━━━━━━━━━━━━━━━━━━━━━━━━━━━━\u001b[0m \u001b[32m77.9/77.9 kB\u001b[0m \u001b[31m3.9 MB/s\u001b[0m eta \u001b[36m0:00:00\u001b[0m\n",
            "\u001b[?25hDownloading jiter-0.5.0-cp310-cp310-manylinux_2_17_x86_64.manylinux2014_x86_64.whl (318 kB)\n",
            "\u001b[2K   \u001b[90m━━━━━━━━━━━━━━━━━━━━━━━━━━━━━━━━━━━━━━━━\u001b[0m \u001b[32m318.9/318.9 kB\u001b[0m \u001b[31m10.6 MB/s\u001b[0m eta \u001b[36m0:00:00\u001b[0m\n",
            "\u001b[?25hDownloading h11-0.14.0-py3-none-any.whl (58 kB)\n",
            "\u001b[2K   \u001b[90m━━━━━━━━━━━━━━━━━━━━━━━━━━━━━━━━━━━━━━━━\u001b[0m \u001b[32m58.3/58.3 kB\u001b[0m \u001b[31m2.8 MB/s\u001b[0m eta \u001b[36m0:00:00\u001b[0m\n",
            "\u001b[?25hInstalling collected packages: jiter, h11, httpcore, httpx, openai\n",
            "Successfully installed h11-0.14.0 httpcore-1.0.5 httpx-0.27.2 jiter-0.5.0 openai-1.47.1\n"
          ]
        }
      ],
      "source": [
        "!pip install openai"
      ]
    },
    {
      "cell_type": "code",
      "execution_count": null,
      "metadata": {
        "id": "iVhPf5dzFfED"
      },
      "outputs": [],
      "source": [
        "import openai\n",
        "from openai import OpenAI\n",
        "import os\n",
        "openai.api_key = \"\"\n",
        "\n",
        "template = \"\"\"Chef's Hat is a four player card game where your goal is to discard all cards before the other players do.\n",
        "At the beginning of the game every player receives a set of cards at their hand representing pizza ingredients.\n",
        "The players discard the cards at the game board which represents a pizza.\n",
        "To discard a card, the player follows a set of game rules which dictate which cards they can discard depending on the cards on the board.\n",
        "Sometimes the player cannot discard a set of cards and they have to pass.\n",
        "As the goal is to discard all the cards at hand, passing does not contribute to this goal.\n",
        "During the game, if three out of the four players pass, the player that did not pass makes one pizza, removing all the cards on the board.\n",
        "After making the pizza, this players gets to choose which cards of their hand will be on the board.\n",
        "\n",
        "For each pizza, we calculate a set of metrics for each player.\n",
        "These metrics represent the behavior of each player based on the actions they chose before the pizza was made.\n",
        "The metrics are:\n",
        "Attack: represents how effective was the action the player made,\n",
        "by counting the amount of players that could not discard any card and then chose the action pass after this action.\n",
        "\n",
        "Attack can have these values:\n",
        "0: No players passed after the action.\n",
        "1: One player passed after the action.\n",
        "2: Two players passed after the action.\n",
        "3: Three players passed after the action.\n",
        "\n",
        "Vitality represents the number of non-pass actions the player did during that pizza.\n",
        "0: Player didn't discard.\n",
        "1: Player discarded once.\n",
        "2: Player discarded twice.\n",
        "\n",
        "Defense measures the amount of players that did the pass action before the current player discard action.\n",
        "This measures the impact of a discard action of the current player in disrupting another player's discard action.\n",
        "0 : The action the current players disrupted did not made any other player pass.\n",
        "1 : The action the current players disrupted made one other player pass.\n",
        "2 : The action the current players disrupted made two other players pass.\n",
        "\n",
        "\n",
        "You are my assistant and I need you to help me describing the players behavior in the chef's hat game.\n",
        "I'll give you the information in this format:\n",
        "[Player_name, Attack, Defense, Vitality]\n",
        "\n",
        "With these information and using only the context I gave you,\n",
        "create a short, direct, concise and clear description of this player behavior.\n",
        "Don't mistake discarding once with discarding one card.\n",
        "In the response, you must not express any amount of cards, for example, don't say \"a card\", \"one card\" or \"a single card\".\n",
        "Remember you are not talking about the cards, you are talking about the act of discarding.\n",
        "\n",
        "You will reply in this format:\n",
        "[Player name, Your reply]\n",
        "\"\"\"\n",
        "\n",
        "openai_api_key = \"\"\n",
        "os.environ[\"OPENAI_API_KEY\"] = openai_api_key\n",
        "\n",
        "client = OpenAI()\n",
        "messages=[{\"role\": \"system\", \"content\": template}]\n"
      ]
    },
    {
      "cell_type": "code",
      "execution_count": null,
      "metadata": {
        "id": "10PKCTXpZIBI"
      },
      "outputs": [],
      "source": [
        "import pandas as pd\n",
        "\n",
        "def save_results_to_excel(file_path):\n",
        "    global results_df\n",
        "    results_df.to_excel(file_path, index=False)\n",
        "\n",
        "def read_games(file_path):\n",
        "\n",
        "    # Read the CSV file into a DataFrame\n",
        "    df = pd.read_excel(file_path)\n",
        "    print(df)\n",
        "\n",
        "    # Group by Match and Round, then process each group\n",
        "    grouped = df.groupby(['Match', 'Round'])\n",
        "\n",
        "    for name, group in grouped:\n",
        "        # Keep only the last occurrence of each 'Source' within a round\n",
        "        last_moves = group.drop_duplicates(subset='Source', keep='last')\n",
        "\n",
        "        # List of all possible sources\n",
        "        sources = ['RANDOM_Random_1', 'RANDOM_Random_2', 'RANDOM_Random_3', 'RANDOM_Random_4']\n",
        "\n",
        "        for source in sources:\n",
        "            source_data = last_moves[last_moves['Source'] == source]\n",
        "            if not source_data.empty:\n",
        "                row = source_data.iloc[0]  # Get the row for this source\n",
        "                # Pass individual parameters to new_move\n",
        "                new_move(row['Source'], row['Attack'], row['Defense'], row['Vitality'])\n",
        "                print(new_move)\n",
        "\n",
        "    save_results_to_excel('/content/result_df_descriptor.xlsx')"
      ]
    },
    {
      "cell_type": "code",
      "execution_count": null,
      "metadata": {
        "id": "XplfHPiJZZNF"
      },
      "outputs": [],
      "source": [
        "import pandas as pd\n",
        "\n",
        "# Initialize an empty DataFrame to store results\n",
        "results_df = pd.DataFrame(columns=['Player_name', 'Attack', 'Defense', 'Vitality', 'ChatGPT_Response'])\n",
        "\n",
        "def new_move(player_name, attack, defense, vitality):\n",
        "    global results_df  # Referencing the global DataFrame\n",
        "\n",
        "    # Assuming messages is a list that is initialized earlier\n",
        "    messages = [\n",
        "        {\"role\": \"system\", \"content\": template},\n",
        "        {\"role\": \"user\", \"content\": f\"{player_name}, {attack}, {defense}, {vitality}\"}\n",
        "    ]\n",
        "\n",
        "    print(\"Messages:\")\n",
        "    print(messages)\n",
        "\n",
        "    # Make sure you have initialized `client` properly\n",
        "    response = client.chat.completions.create(\n",
        "        model=\"gpt-4o-mini\",\n",
        "        messages=messages,\n",
        "        temperature=0,\n",
        "    )\n",
        "\n",
        "    chatgpt_response = response.choices[0].message.content\n",
        "    responses = chatgpt_response.split('\\n')\n",
        "    last_response = responses[-1]\n",
        "\n",
        "    print(\"ChatGPT Last Response:\")\n",
        "    print(last_response)\n",
        "\n",
        "    # Create a DataFrame for the new row\n",
        "    new_row_df = pd.DataFrame([{\n",
        "        'Player_name': player_name, 'Attack': attack, 'Defense': defense, 'Vitality': vitality,\n",
        "        'ChatGPT_Response': last_response\n",
        "    }], columns=results_df.columns)\n",
        "    print(\"New Row DataFrame:\")\n",
        "    print(new_row_df)\n",
        "\n",
        "    # Append the new row to the results DataFrame\n",
        "    results_df = pd.concat([results_df, new_row_df], ignore_index=True)\n",
        "    print(results_df)\n",
        "\n",
        "    # Optionally save results to CSV if needed\n",
        "    # save_results_to_csv('/path/to/save.csv')"
      ]
    },
    {
      "cell_type": "code",
      "execution_count": null,
      "metadata": {
        "id": "IKx27cfIf6JT"
      },
      "outputs": [],
      "source": [
        "read_games(\"/content/results_df.xlsx\")"
      ]
    },
    {
      "cell_type": "code",
      "execution_count": null,
      "metadata": {
        "id": "JUhSqWI3pgt4"
      },
      "outputs": [],
      "source": [
        "# Now to process a response using the narrator template\n",
        "\n",
        "commentator_template_prompt = \"\"\"\n",
        "You are Nova, a Chef's Hat card game narrator.\n",
        "Chef's Hat is a four player card game where your goal is to discard all cards before the other players do.\n",
        "At the beginning of the game every player receives a set of cards at their hand representing pizza ingredients.\n",
        "The players discard the cards at the game board which represents a pizza.\n",
        "To discard a card, the player follows a set of game rules which dictate which cards they can discard depending on the cards on the board.\n",
        "Sometimes the player cannot discard a set of cards and they have to pass.\n",
        "As the goal is to discard all the cards at hand, passing does not contribute to this goal.\n",
        "During the game, if three out of the four players pass, the player that did not pass makes one pizza, removing all the cards on the board.\n",
        "After making the pizza, this players gets to choose which cards of their hand will be on the board.\n",
        "\n",
        "You will receive data in the following format: [Player name, move].\n",
        "Narrate each move of each player.\n",
        "Narrate how the other players reacted.\n",
        "In this narration, pass and discard actions must be clearly described with the words \"pass\" or \"passing\" and \"discard\" or \"discarding\".\n",
        "Your comment must be entertaining for spectators.\n",
        "Don't mistake discarding once with discarding one card.\n",
        "In the response, you must not express any amount of cards, for example, don't say \"a card\", \"one card\" or \"a single card\".\n",
        "Remember you are not talking about the cards, you are talking about the act of discarding.\n",
        "\n",
        "\n",
        "\n",
        "You will reply in this format:\n",
        "[Player name, Your reply]\n",
        "\"\"\"\n",
        "\n",
        "def process_response_with_template(response_content, new_template_prompt):\n",
        "    # Create messages list for the new prompt\n",
        "    messages = [\n",
        "        {\"role\": \"system\", \"content\": new_template_prompt},\n",
        "        {\"role\": \"user\", \"content\": response_content}\n",
        "    ]\n",
        "\n",
        "    # Make the API call\n",
        "    response = client.chat.completions.create(\n",
        "        model=\"gpt-4o-mini\",  # Specify the model\n",
        "        messages=messages,\n",
        "        temperature=0\n",
        "    )\n",
        "\n",
        "    # Extract and return the response content\n",
        "    return response.choices[0].message.content\n",
        "\n",
        "def process_all_responses(new_template_prompt):\n",
        "    results_df  = pd.read_excel('/content/result_df_descriptor.xlsx')\n",
        "\n",
        "    # Create a list to store processed responses\n",
        "    processed_responses = []\n",
        "\n",
        "    # Process each response in the DataFrame\n",
        "    for index, row in results_df.iterrows():\n",
        "        response_content = row['ChatGPT_Response']\n",
        "        # Process the response with the new template\n",
        "        processed_response = process_response_with_template(response_content, new_template_prompt)\n",
        "        processed_responses.append(processed_response)\n",
        "\n",
        "    # Add the processed responses as a new column in the DataFrame\n",
        "    results_df['Processed_Response'] = processed_responses\n",
        "\n",
        "    # Save the updated DataFrame to a CSV file\n",
        "    results_df.to_excel('/content/result_df_commentator.xlsx', index=False)"
      ]
    },
    {
      "cell_type": "code",
      "execution_count": null,
      "metadata": {
        "id": "uR_okggbsG9R"
      },
      "outputs": [],
      "source": [
        "process_all_responses(commentator_template_prompt)"
      ]
    },
    {
      "cell_type": "code",
      "execution_count": null,
      "metadata": {
        "id": "lRcyd3U0ucAY"
      },
      "outputs": [],
      "source": [
        "!pip install openai\n",
        "import pandas as pd\n",
        "import openai\n",
        "from openai import OpenAI\n",
        "import os\n",
        "openai.api_key = \"\""
      ]
    },
    {
      "cell_type": "code",
      "execution_count": null,
      "metadata": {
        "id": "I-yuSG7ITdRy"
      },
      "outputs": [],
      "source": [
        "final_template_prompt = \"\"\"\n",
        "You are Nova, a Chef's Hat card game narrator.\n",
        "You will receive four lines of data, all four describing the actions of four players and the consequences of their actions.\n",
        "The information is mixed with some sentences generated for entertaining purposes.\n",
        "Don't ignore the beginning of the sentences, it might include the name of the player you're referring to.\n",
        "\n",
        "Get the information about the action of the player and the consequence for the other players in each line.\n",
        "Pass and discard actions must be clearly described with the words \"pass\" or \"passing\" and \"discard\" or \"discarding\".\n",
        "Use this information to create a single comment.\n",
        "Identify in the comment which player you're talking about.\n",
        "Your comment must be entertaining for spectators.\n",
        "\n",
        "The rules for constructiong the comment are:\n",
        "Don't repeat the previous comment.\n",
        "Don't mistake discarding once with discarding one card.\n",
        "In the response, you must not express any amount of cards, for example, don't say \"a card\", \"one card\" or \"a single card\".\n",
        "Remember in this cases, you are not talking about the cards, you are talking about the act of discarding.\n",
        "\"\"\""
      ]
    },
    {
      "cell_type": "code",
      "execution_count": null,
      "metadata": {
        "id": "yEp0C9n_Ybx3"
      },
      "outputs": [],
      "source": [
        "def process_pizzas(file_path):\n",
        "    # Load the Excel file\n",
        "    df = pd.read_excel(file_path)  # Use pd.read_excel if working with an Excel file\n",
        "\n",
        "    # Initialize list to store summaries\n",
        "    pizza_summaries = []\n",
        "\n",
        "    # Loop through the DataFrame in chunks of 4 (for each pizza)\n",
        "    for i in range(0, len(df), 4):\n",
        "        pizza_group = df.iloc[i:i+4]\n",
        "\n",
        "        # Concatenate the 'Processed_Response' for all four players in the pizza group\n",
        "        descriptions = \"\\n\".join(pizza_group['Processed_Response'].tolist())\n",
        "\n",
        "        # Ensure all four players' descriptions are collected before passing to OpenAI\n",
        "        if len(pizza_group) == 4:\n",
        "            processed_response = process_response_with_template(descriptions, final_template_prompt)\n",
        "\n",
        "            # Make the API call\n",
        "            response = client.chat.completions.create(\n",
        "                model=\"gpt-4o-mini\",  # Specify the model\n",
        "                messages=messages,\n",
        "                temperature=0)\n",
        "\n",
        "            # Extract the response text\n",
        "            summary = processed_response\n",
        "\n",
        "            # Add the summary to the list (for the whole pizza group)\n",
        "            pizza_summaries.extend([summary] * 4)  # Repeat the summary for each player in the group\n",
        "    # pizza_summaries.append(\"null\")\n",
        "    # pizza_summaries.append(\"null\")\n",
        "    # pizza_summaries.append(\"null\")\n",
        "    # Add the summaries back into the DataFrame as a new column\n",
        "    df['Pizza_Summary'] = pizza_summaries\n",
        "\n",
        "    # Save the updated DataFrame to an Excel file\n",
        "    df.to_excel('processed_pizzas.xlsx', index=False)"
      ]
    },
    {
      "cell_type": "code",
      "execution_count": null,
      "metadata": {
        "id": "FIkEvnzaYiDx"
      },
      "outputs": [],
      "source": [
        "process_pizzas('/content/result_df_commentator.xlsx')"
      ]
    },
    {
      "cell_type": "code",
      "source": [
        "!pip install openai\n",
        "!pip install gtts\n",
        "from gtts import gTTS\n",
        "import pandas as pd\n",
        "import openai\n",
        "from openai import OpenAI\n",
        "import os\n",
        "openai.api_key = \"\""
      ],
      "metadata": {
        "id": "OFQ8ZX1g9Gau"
      },
      "execution_count": null,
      "outputs": []
    },
    {
      "cell_type": "code",
      "source": [
        "def process_xlsx_to_pizza(file_path):\n",
        "    # Read the .xlsx file\n",
        "    df = pd.read_excel(file_path)\n",
        "\n",
        "    # Get the last column (assume it's the last one by index)\n",
        "    last_column = df.iloc[:, -1]\n",
        "\n",
        "    # Create a new DataFrame for pizzas\n",
        "    pizza_data = {'Pizza': [], 'Narration': []}\n",
        "\n",
        "    # Loop through the last column in steps of 4 (grouping by 4 lines)\n",
        "    for i in range(0, len(last_column), 4):\n",
        "        # Get the Pizza number\n",
        "        pizza_number = f\"Pizza {(i // 4) + 1}\"\n",
        "\n",
        "        # Get the fourth line of the current group (i.e., i+3)\n",
        "        if i + 3 < len(last_column):\n",
        "            fourth_line = last_column.iloc[i + 3]\n",
        "        else:\n",
        "            fourth_line = None  # Handle cases where lines are less than 4 at the end\n",
        "\n",
        "        # Add the data to the pizza_data dictionary\n",
        "        pizza_data['Pizza'].append(pizza_number)\n",
        "        pizza_data['Narration'].append(fourth_line)\n",
        "\n",
        "    # Create the final DataFrame\n",
        "    pizza_df = pd.DataFrame(pizza_data)\n",
        "    pizza_df.to_excel('pizzas_summary.xlsx', index=False)\n",
        "\n",
        "    return pizza_df"
      ],
      "metadata": {
        "id": "Tfx4EOdc2aRw"
      },
      "execution_count": null,
      "outputs": []
    },
    {
      "cell_type": "code",
      "source": [
        "pizza_df = process_xlsx_to_pizza(\"/content/processed_pizzas.xlsx\")\n",
        "\n",
        "# Display the resulting DataFrame\n",
        "print(pizza_df)"
      ],
      "metadata": {
        "id": "KvI5tlYi8t2b"
      },
      "execution_count": null,
      "outputs": []
    },
    {
      "cell_type": "code",
      "source": [
        "def replace_player_names(text):\n",
        "    player_mapping = {\n",
        "        \"RANDOM_Random_1\": \"Player number 1\",\n",
        "        \"RANDOM_Random_2\": \"Player number 2\",\n",
        "        \"RANDOM_Random_3\": \"Player number 3\",\n",
        "        \"RANDOM_Random_4\": \"Player number 4\"\n",
        "    }\n",
        "\n",
        "    # Replace player names using the mapping\n",
        "    for old_name, new_name in player_mapping.items():\n",
        "        text = text.replace(old_name, new_name)\n",
        "\n",
        "    return text\n",
        "\n",
        "def text_to_audio(df_pizzas, output_dir='audio_files'):\n",
        "    # Read the .xlsx file\n",
        "    df = pd.read_excel(df_pizzas)\n",
        "\n",
        "    # Create the output directory if it doesn't exist\n",
        "    if not os.path.exists(output_dir):\n",
        "        os.makedirs(output_dir)\n",
        "\n",
        "    # Iterate through the DataFrame rows\n",
        "    for index, row in df.iterrows():\n",
        "        pizza_name = row['Pizza']\n",
        "        text = row['Narration']\n",
        "\n",
        "        if pd.isna(text) or not text.strip():\n",
        "            # Skip if there's no text to convert\n",
        "            print(f\"Skipping {pizza_name} due to empty text.\")\n",
        "            continue\n",
        "\n",
        "        # Replace player names in the text\n",
        "        modified_text = replace_player_names(text)\n",
        "        print(\"modified text\")\n",
        "        print(modified_text)\n",
        "\n",
        "        # Convert the modified text to audio using gTTS\n",
        "        tts = gTTS(text=modified_text, lang='en')\n",
        "\n",
        "        # Save the audio file with a name like 'Pizza_1.mp3'\n",
        "        audio_file = os.path.join(output_dir, f'{pizza_name}.mp3')\n",
        "        tts.save(audio_file)\n",
        "\n",
        "        print(f'Audio for {pizza_name} saved as {audio_file}')"
      ],
      "metadata": {
        "id": "sPQARPKL-A_S"
      },
      "execution_count": null,
      "outputs": []
    },
    {
      "cell_type": "code",
      "source": [
        "# Generate audio files\n",
        "text_to_audio(\"/content/pizzas_summary.xlsx\")"
      ],
      "metadata": {
        "id": "hK0f4ngv-p-_"
      },
      "execution_count": null,
      "outputs": []
    }
  ],
  "metadata": {
    "colab": {
      "provenance": []
    },
    "kernelspec": {
      "display_name": "Python 3",
      "name": "python3"
    },
    "language_info": {
      "name": "python"
    }
  },
  "nbformat": 4,
  "nbformat_minor": 0
}